{
 "cells": [
  {
   "cell_type": "code",
   "execution_count": 4,
   "id": "2c563821",
   "metadata": {},
   "outputs": [
    {
     "name": "stdout",
     "output_type": "stream",
     "text": [
      "ok\n"
     ]
    }
   ],
   "source": [
    "print(\"ok\")"
   ]
  },
  {
   "cell_type": "code",
   "execution_count": 74,
   "id": "34c93aea",
   "metadata": {},
   "outputs": [
    {
     "data": {
      "text/plain": [
       "'c:\\\\'"
      ]
     },
     "execution_count": 74,
     "metadata": {},
     "output_type": "execute_result"
    }
   ],
   "source": [
    "%pwd"
   ]
  },
  {
   "cell_type": "code",
   "execution_count": 39,
   "id": "0ba2cd6c",
   "metadata": {},
   "outputs": [],
   "source": [
    "import os\n",
    "os.chdir('C:/LLM/Labour-Law-chatbot/Data')\n"
   ]
  },
  {
   "cell_type": "code",
   "execution_count": 2,
   "id": "e82ed81c",
   "metadata": {},
   "outputs": [
    {
     "data": {
      "text/plain": [
       "'C:\\\\LLM\\\\Labour-Law-chatbot\\\\Data'"
      ]
     },
     "execution_count": 2,
     "metadata": {},
     "output_type": "execute_result"
    }
   ],
   "source": [
    "%pwd"
   ]
  },
  {
   "cell_type": "code",
   "execution_count": 3,
   "id": "4f71f235",
   "metadata": {},
   "outputs": [],
   "source": [
    "from langchain.document_loaders import PyPDFLoader, DirectoryLoader\n",
    "from langchain.text_splitter import RecursiveCharacterTextSplitter"
   ]
  },
  {
   "cell_type": "code",
   "execution_count": 4,
   "id": "442372fd",
   "metadata": {},
   "outputs": [],
   "source": [
    "#Extract Data from the PDF File\n",
    "os.chdir('C:/LLM/Labour-Law-chatbot')\n",
    "\n",
    "def load_pdf_file(folder_name):\n",
    "    loader = DirectoryLoader(folder_name, glob=\"*.pdf\", loader_cls=PyPDFLoader)\n",
    "\n",
    "    documents = loader.load()\n",
    "\n",
    "    return documents\n"
   ]
  },
  {
   "cell_type": "code",
   "execution_count": 5,
   "id": "f9318143",
   "metadata": {},
   "outputs": [
    {
     "name": "stdout",
     "output_type": "stream",
     "text": [
      "197 PDFs loaded.\n"
     ]
    }
   ],
   "source": [
    "extracted_data = load_pdf_file('Data')\n",
    "print(f\"{len(extracted_data)} PDFs loaded.\")\n",
    "\n"
   ]
  },
  {
   "cell_type": "code",
   "execution_count": 118,
   "id": "508c0aa8",
   "metadata": {},
   "outputs": [],
   "source": [
    "#extracted_data"
   ]
  },
  {
   "cell_type": "code",
   "execution_count": 6,
   "id": "65d9b890",
   "metadata": {},
   "outputs": [],
   "source": [
    "#Split the Data into text chunks\n",
    "\n",
    "def text_split(extracted_data):\n",
    "    text_splitter = RecursiveCharacterTextSplitter(chunk_size = 500, chunk_overlap =20)\n",
    "    text_chunks = text_splitter.split_documents(extracted_data)\n",
    "    return text_chunks"
   ]
  },
  {
   "cell_type": "code",
   "execution_count": 7,
   "id": "32d28bf7",
   "metadata": {},
   "outputs": [
    {
     "name": "stdout",
     "output_type": "stream",
     "text": [
      "Length of text Chunks 888\n"
     ]
    }
   ],
   "source": [
    "text_chunks = text_split(extracted_data)\n",
    "print(\"Length of text Chunks\", len(text_chunks))"
   ]
  },
  {
   "cell_type": "code",
   "execution_count": 15,
   "id": "29dffc2d",
   "metadata": {},
   "outputs": [],
   "source": [
    "#text_chunks"
   ]
  },
  {
   "cell_type": "code",
   "execution_count": 8,
   "id": "790fa7a4",
   "metadata": {},
   "outputs": [],
   "source": [
    "# from langchain_community.embeddings import HuggingFaceEmbeddings\n",
    "from langchain.embeddings import HuggingFaceEmbeddings\n",
    "\n"
   ]
  },
  {
   "cell_type": "code",
   "execution_count": 9,
   "id": "1c832cba",
   "metadata": {},
   "outputs": [],
   "source": [
    "#Download the Embeddings from Hugging Face\n",
    "def download_hugging_face_embeddings():\n",
    "    embeddings = HuggingFaceEmbeddings(model_name=\"sentence-transformers/all-MiniLM-L6-V2\")\n",
    "    return embeddings"
   ]
  },
  {
   "cell_type": "code",
   "execution_count": 10,
   "id": "bd98324b",
   "metadata": {},
   "outputs": [
    {
     "name": "stderr",
     "output_type": "stream",
     "text": [
      "C:\\Users\\krajk\\AppData\\Local\\Temp\\ipykernel_14064\\3511447904.py:3: LangChainDeprecationWarning: The class `HuggingFaceEmbeddings` was deprecated in LangChain 0.2.2 and will be removed in 1.0. An updated version of the class exists in the :class:`~langchain-huggingface package and should be used instead. To use it run `pip install -U :class:`~langchain-huggingface` and import as `from :class:`~langchain_huggingface import HuggingFaceEmbeddings``.\n",
      "  embeddings = HuggingFaceEmbeddings(model_name=\"sentence-transformers/all-MiniLM-L6-V2\")\n",
      "c:\\Users\\krajk\\miniconda3\\Lib\\site-packages\\tqdm\\auto.py:21: TqdmWarning: IProgress not found. Please update jupyter and ipywidgets. See https://ipywidgets.readthedocs.io/en/stable/user_install.html\n",
      "  from .autonotebook import tqdm as notebook_tqdm\n"
     ]
    }
   ],
   "source": [
    "embeddings = download_hugging_face_embeddings()"
   ]
  },
  {
   "cell_type": "code",
   "execution_count": 11,
   "id": "7ca5e167",
   "metadata": {},
   "outputs": [
    {
     "name": "stdout",
     "output_type": "stream",
     "text": [
      "Length 384\n"
     ]
    }
   ],
   "source": [
    "query_result = embeddings.embed_query(\"Hello World\")\n",
    "print(\"Length\", len(query_result))"
   ]
  },
  {
   "cell_type": "code",
   "execution_count": 39,
   "id": "9deca630",
   "metadata": {},
   "outputs": [],
   "source": [
    "#query_result"
   ]
  },
  {
   "cell_type": "code",
   "execution_count": 12,
   "id": "5efb2854",
   "metadata": {},
   "outputs": [
    {
     "data": {
      "text/plain": [
       "True"
      ]
     },
     "execution_count": 12,
     "metadata": {},
     "output_type": "execute_result"
    }
   ],
   "source": [
    "from dotenv import load_dotenv\n",
    "load_dotenv()"
   ]
  },
  {
   "cell_type": "code",
   "execution_count": null,
   "id": "356a3a77",
   "metadata": {},
   "outputs": [
    {
     "name": "stdout",
     "output_type": "stream",
     "text": [
      "None\n"
     ]
    }
   ],
   "source": [
    "PINECONE_API_KEY = os.environ.get(\"PINECONE_API_KEY\")\n",
    "OPENAI_API_KEY = os.environ.get(\"OPENAI_API_KEY\")\n",
    "GROQ_API_KEY = os.environ.get(\"GROQ_API_KEY\")\n",
    "\n"
   ]
  },
  {
   "cell_type": "code",
   "execution_count": null,
   "id": "29230a5b",
   "metadata": {},
   "outputs": [],
   "source": [
    "from pinecone.grpc import PineconeGRPC as Pinecone \n",
    "from pinecone import ServerlessSpec \n",
    "import os\n",
    "\n",
    "pc = Pinecone(api_key = PINECONE_API_KEY)\n",
    "\n",
    "index_name =\"labourlawbot\"\n",
    "\n",
    "pc.create_index(\n",
    "    name=index_name,\n",
    "    dimension=384,\n",
    "    metric=\"cosine\",\n",
    "    spec=ServerlessSpec(\n",
    "        cloud=\"aws\",\n",
    "        region=\"us-east-1\"\n",
    "    )\n",
    ")\n",
    "\n"
   ]
  },
  {
   "cell_type": "code",
   "execution_count": 43,
   "id": "f340e9d5",
   "metadata": {},
   "outputs": [],
   "source": [
    "import os\n",
    "os.environ[\"PINECONE_API_KEY\"] = PINECONE_API_KEY\n",
    "os.environ[\"OPENAI_API_KEY\"] = OPENAI_API_KEY\n",
    "os.environ[\"GROQ_API_KEY\"] = \"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\"\n"
   ]
  },
  {
   "cell_type": "code",
   "execution_count": 44,
   "id": "d8f581aa",
   "metadata": {},
   "outputs": [],
   "source": [
    "#Embed each chunk and upsert the embeddings into the Pinecone index\n",
    "from langchain_pinecone import PineconeVectorStore\n",
    "\n",
    "docsearch = PineconeVectorStore.from_documents(\n",
    "    documents=text_chunks,\n",
    "    index_name= index_name,\n",
    "    embedding= embeddings,\n",
    "\n",
    ")"
   ]
  },
  {
   "cell_type": "code",
   "execution_count": 45,
   "id": "92cf6331",
   "metadata": {},
   "outputs": [],
   "source": [
    "#Load Existing index \n",
    "\n",
    "from langchain_pinecone import PineconeVectorStore\n",
    "#embed each chunk and upsert the embeddings into your Pinecone index.\n",
    "\n",
    "docsearch = PineconeVectorStore.from_existing_index(\n",
    "    index_name= index_name,\n",
    "    embedding= embeddings\n",
    ")\n",
    "\n"
   ]
  },
  {
   "cell_type": "code",
   "execution_count": 46,
   "id": "82501b24",
   "metadata": {},
   "outputs": [
    {
     "data": {
      "text/plain": [
       "<langchain_pinecone.vectorstores.PineconeVectorStore at 0x27b59211350>"
      ]
     },
     "execution_count": 46,
     "metadata": {},
     "output_type": "execute_result"
    }
   ],
   "source": [
    "docsearch"
   ]
  },
  {
   "cell_type": "code",
   "execution_count": 47,
   "id": "2afe4937",
   "metadata": {},
   "outputs": [],
   "source": [
    "retriever = docsearch.as_retriever(search_type = \"similarity\",search_kwargs={\"k\":3})"
   ]
  },
  {
   "cell_type": "code",
   "execution_count": 48,
   "id": "a498b87a",
   "metadata": {},
   "outputs": [],
   "source": [
    "retriever_docs = retriever.invoke(\"What is Labour Law?\")"
   ]
  },
  {
   "cell_type": "code",
   "execution_count": 49,
   "id": "6829ecab",
   "metadata": {},
   "outputs": [
    {
     "data": {
      "text/plain": [
       "[Document(id='da3efd69-2083-4435-9d1b-8c9c2152673a', metadata={'creationdate': '2012-10-08T10:05:47+02:00', 'creator': 'convertonlinefree.com', 'moddate': '2012-10-08T13:38:03+05:30', 'page': 2.0, 'page_label': '3', 'producer': 'convertonlinefree.com', 'source': 'Data\\\\Labour Act.pdf', 'total_pages': 197.0}, page_content='3 \\n \\n1. INTRODUCTION \\nLabour law  also known as employment law  is the body of laws, administrative rulings, and \\nprecedents which address the legal rights of, and restrictions on, working people and their \\norganizations. As such, it mediates many aspects of the relationship between trade unions, \\nemployers and employees. In other words, Labour law defines the rights and obligations as workers, \\nunion members and employers in the workplace.  Generally, labour law covers:'),\n",
       " Document(id='c886fec2-17b8-4bb4-8452-a739eec80e05', metadata={'creationdate': '2012-10-08T10:05:47+02:00', 'creator': 'convertonlinefree.com', 'moddate': '2012-10-08T13:38:03+05:30', 'page': 2.0, 'page_label': '3', 'producer': 'convertonlinefree.com', 'source': 'Data\\\\Labour Act.pdf', 'total_pages': 197.0}, page_content='3 \\n \\n1. INTRODUCTION \\nLabour law  also known as employment law  is the body of laws, administrative rulings, and \\nprecedents which address the legal rights of, and restrictions on, working people and their \\norganizations. As such, it mediates many aspects of the relationship between trade unions, \\nemployers and employees. In other words, Labour law defines the rights and obligations as workers, \\nunion members and employers in the workplace.  Generally, labour law covers:'),\n",
       " Document(id='a791b204-2b00-4720-88ce-6212298a32d9', metadata={'creationdate': '2012-10-08T10:05:47+02:00', 'creator': 'convertonlinefree.com', 'moddate': '2012-10-08T13:38:03+05:30', 'page': 2.0, 'page_label': '3', 'producer': 'convertonlinefree.com', 'source': 'Data\\\\Labour Act.pdf', 'total_pages': 197.0}, page_content='3 \\n \\n1. INTRODUCTION \\nLabour law  also known as employment law  is the body of laws, administrative rulings, and \\nprecedents which address the legal rights of, and restrictions on, working people and their \\norganizations. As such, it mediates many aspects of the relationship between trade unions, \\nemployers and employees. In other words, Labour law defines the rights and obligations as workers, \\nunion members and employers in the workplace.  Generally, labour law covers:')]"
      ]
     },
     "execution_count": 49,
     "metadata": {},
     "output_type": "execute_result"
    }
   ],
   "source": [
    "retriever_docs"
   ]
  },
  {
   "cell_type": "code",
   "execution_count": 55,
   "id": "94ddf38a",
   "metadata": {},
   "outputs": [],
   "source": [
    "# Load GROQ LLM\n",
    "from langchain_groq import ChatGroq\n",
    "\n",
    "llm = ChatGroq(\n",
    "    groq_api_key=\"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\",\n",
    "    model_name=\"llama3-70b-8192\",  # or llama2-70b-4096 / gemma-7b-it\n",
    "    temperature=0.4,\n",
    "    max_tokens=500,\n",
    ")"
   ]
  },
  {
   "cell_type": "code",
   "execution_count": 56,
   "id": "a14e0188",
   "metadata": {},
   "outputs": [],
   "source": [
    "from langchain.chains import create_retrieval_chain\n",
    "from langchain.chains.combine_documents import create_stuff_documents_chain\n",
    "from langchain_core.prompts import ChatPromptTemplate\n",
    "\n",
    "system_prompt = (\n",
    "    \"You are an assistant for question-answering tasks. \"\n",
    "    \"Use the following pieces of retrieved context to answer the question. \"\n",
    "    \"If you don't know the answer, say that you don't know. \"\n",
    "    \"Keep the answer concise (max 3 sentences).\\n\\n{context}\"\n",
    ")\n",
    "\n",
    "prompt = ChatPromptTemplate.from_messages(\n",
    "    [(\"system\", system_prompt), (\"human\", \"{input}\")]\n",
    ")\n"
   ]
  },
  {
   "cell_type": "code",
   "execution_count": 57,
   "id": "d3805742",
   "metadata": {},
   "outputs": [],
   "source": [
    "question_answer_chain = create_stuff_documents_chain(llm, prompt)\n",
    "rag_chain = create_retrieval_chain(retriever, question_answer_chain)\n"
   ]
  },
  {
   "cell_type": "code",
   "execution_count": 61,
   "id": "9d19ea1b",
   "metadata": {},
   "outputs": [
    {
     "name": "stdout",
     "output_type": "stream",
     "text": [
      "I don't know. The provided context is about registered trade unions, and there is no mention of \"nose\".\n"
     ]
    }
   ],
   "source": [
    "response = rag_chain.invoke({\"input\": \"what is nose?\"})\n",
    "print(response[\"answer\"])"
   ]
  },
  {
   "cell_type": "markdown",
   "id": "ff540bc7",
   "metadata": {},
   "source": []
  },
  {
   "cell_type": "markdown",
   "id": "770d0fee",
   "metadata": {},
   "source": []
  }
 ],
 "metadata": {
  "kernelspec": {
   "display_name": "base",
   "language": "python",
   "name": "python3"
  },
  "language_info": {
   "codemirror_mode": {
    "name": "ipython",
    "version": 3
   },
   "file_extension": ".py",
   "mimetype": "text/x-python",
   "name": "python",
   "nbconvert_exporter": "python",
   "pygments_lexer": "ipython3",
   "version": "3.13.2"
  }
 },
 "nbformat": 4,
 "nbformat_minor": 5
}
